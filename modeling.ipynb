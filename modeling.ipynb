{
 "cells": [
  {
   "cell_type": "code",
   "execution_count": 8,
   "id": "48717a08-8585-432e-9688-0bae2a5d33ba",
   "metadata": {},
   "outputs": [],
   "source": [
    "import pandas as pd\n",
    "import numpy as np\n",
    "from sklearn.base import BaseEstimator, TransformerMixin\n",
    "from sklearn.pipeline import Pipeline\n",
    "from sklearn.compose import ColumnTransformer\n",
    "from sklearn.preprocessing import OneHotEncoder, StandardScaler, LabelEncoder, OrdinalEncoder\n",
    "from sklearn.metrics import precision_score, recall_score, accuracy_score, f1_score, log_loss\n",
    "from sklearn.impute import SimpleImputer\n",
    "import os\n",
    "import mlflow\n",
    "from dotenv import load_dotenv\n",
    "from joblib import Memory\n",
    "import joblib\n",
    "from scipy.sparse import csr_matrix\n",
    "from implicit.als import AlternatingLeastSquares\n",
    "from catboost import CatBoostClassifier, Pool\n",
    "from tqdm.notebook import tqdm\n",
    "from utils.classes import DropColumns, ProcessNumericColumns, ProcessCategoricalColumns, \\\n",
    "ProcessDateColumns, ProcessBooleanColumns, RemoveOutliers, LabelEncodeColumns"
   ]
  },
  {
   "cell_type": "code",
   "execution_count": 2,
   "id": "3e84497d-25c0-43cd-be00-159a3bb7a855",
   "metadata": {},
   "outputs": [
    {
     "data": {
      "text/plain": [
       "True"
      ]
     },
     "execution_count": 2,
     "metadata": {},
     "output_type": "execute_result"
    }
   ],
   "source": [
    "load_dotenv()"
   ]
  },
  {
   "cell_type": "markdown",
   "id": "846c5835-f0f8-47bf-bb48-7fb06670e4a3",
   "metadata": {},
   "source": [
    "# Предварительная обработка данных"
   ]
  },
  {
   "cell_type": "code",
   "execution_count": 3,
   "id": "bd8b0750-7cf9-4c06-b8b6-fa12093ab67f",
   "metadata": {},
   "outputs": [],
   "source": [
    "# Загружаем данные"
   ]
  },
  {
   "cell_type": "code",
   "execution_count": 4,
   "id": "71d80a17-3bd0-4378-908c-d5c38159b62e",
   "metadata": {},
   "outputs": [],
   "source": [
    "data = pd.read_csv(\"data/train_ver2.csv\", low_memory=False)"
   ]
  },
  {
   "cell_type": "code",
   "execution_count": 9,
   "id": "5cadc008-776b-4005-9a28-bac80e5f7e42",
   "metadata": {},
   "outputs": [],
   "source": [
    "# Для каждого шага предобработки данных напишем свой трансформер\n",
    "# В ./utils/classes.py"
   ]
  },
  {
   "cell_type": "code",
   "execution_count": 7,
   "id": "c18817e8-d6fe-4b2d-9957-ffa7788ac536",
   "metadata": {},
   "outputs": [
    {
     "data": {
      "text/plain": [
       "segmento\n",
       "02 - PARTICULARES     7960220\n",
       "03 - UNIVERSITARIO    4935579\n",
       "01 - TOP               562142\n",
       "Name: count, dtype: int64"
      ]
     },
     "execution_count": 7,
     "metadata": {},
     "output_type": "execute_result"
    }
   ],
   "source": [
    "data['segmento'].value_counts()"
   ]
  },
  {
   "cell_type": "code",
   "execution_count": 8,
   "id": "7c5e1e84-f8df-4331-8633-e281c559c528",
   "metadata": {},
   "outputs": [],
   "source": [
    "# Определяем стобцы для трансформации\n",
    "numeric_columns = ['age', 'antiguedad', 'renta']\n",
    "datetime_columns = ['fecha_dato', 'fecha_alta']\n",
    "columns_to_drop = ['tipodom', 'nomprov', 'ult_fec_cli_1t', 'conyuemp']\n",
    "\n",
    "categorical_columns = [\n",
    "    'ind_empleado', 'pais_residencia', 'indrel_1mes', \n",
    "    'tiprel_1mes', 'canal_entrada', 'segmento'\n",
    "]\n",
    "\n",
    "boolean_columns = [\n",
    "    col for col in data.columns if data[col].nunique() == 2 and not col in ['conyuemp']\n",
    "]"
   ]
  },
  {
   "cell_type": "code",
   "execution_count": 9,
   "id": "84d5452d-de03-4168-a236-e61f377f00d6",
   "metadata": {},
   "outputs": [],
   "source": [
    "# Приводим типы, заполняем пропущеные значения, удаляем выбросы\n",
    "preprocess_data_pipeline = Pipeline([\n",
    "    ('drop_columns', DropColumns(columns=columns_to_drop)),\n",
    "    ('process_numeric', ProcessNumericColumns(columns=numeric_columns)),\n",
    "    ('remove_outliers', RemoveOutliers(columns=numeric_columns)),\n",
    "    ('process_categorical', ProcessCategoricalColumns(columns=categorical_columns)),\n",
    "    ('process_boolean', ProcessBooleanColumns(columns=boolean_columns)),\n",
    "    ('process_dates', ProcessDateColumns(columns=datetime_columns)),\n",
    "])\n",
    "\n",
    "# Выполняем преобразования стобцов\n",
    "column_transformer = ColumnTransformer(\n",
    "    transformers=[\n",
    "        ('numeric', StandardScaler(), numeric_columns)\n",
    "    ],\n",
    "    remainder='passthrough',\n",
    "    verbose_feature_names_out=False\n",
    ")\n",
    "\n",
    "# Собираем в пайплайн\n",
    "pipeline = Pipeline([\n",
    "    ('data_preprocessing', preprocess_data_pipeline),\n",
    "    ('feature_transformation', column_transformer)\n",
    "])"
   ]
  },
  {
   "cell_type": "code",
   "execution_count": 10,
   "id": "36bca358-c957-4b65-892a-25188f73d9eb",
   "metadata": {},
   "outputs": [
    {
     "name": "stderr",
     "output_type": "stream",
     "text": [
      "/tmp/ipykernel_9773/862778006.py:89: FutureWarning: Downcasting object dtype arrays on .fillna, .ffill, .bfill is deprecated and will change in a future version. Call result.infer_objects(copy=False) instead. To opt-in to the future behavior, set `pd.set_option('future.no_silent_downcasting', True)`\n",
      "  X[col] = X[col].fillna(False)\n",
      "/tmp/ipykernel_9773/862778006.py:89: FutureWarning: Downcasting object dtype arrays on .fillna, .ffill, .bfill is deprecated and will change in a future version. Call result.infer_objects(copy=False) instead. To opt-in to the future behavior, set `pd.set_option('future.no_silent_downcasting', True)`\n",
      "  X[col] = X[col].fillna(False)\n",
      "/tmp/ipykernel_9773/862778006.py:89: FutureWarning: Downcasting object dtype arrays on .fillna, .ffill, .bfill is deprecated and will change in a future version. Call result.infer_objects(copy=False) instead. To opt-in to the future behavior, set `pd.set_option('future.no_silent_downcasting', True)`\n",
      "  X[col] = X[col].fillna(False)\n",
      "/tmp/ipykernel_9773/862778006.py:89: FutureWarning: Downcasting object dtype arrays on .fillna, .ffill, .bfill is deprecated and will change in a future version. Call result.infer_objects(copy=False) instead. To opt-in to the future behavior, set `pd.set_option('future.no_silent_downcasting', True)`\n",
      "  X[col] = X[col].fillna(False)\n"
     ]
    }
   ],
   "source": [
    "processed_data = pipeline.fit_transform(data)"
   ]
  },
  {
   "cell_type": "code",
   "execution_count": 11,
   "id": "61da8ba7-85ee-47c3-adfb-52f19db7bb8c",
   "metadata": {},
   "outputs": [],
   "source": [
    "feature_names = column_transformer.get_feature_names_out()\n",
    "data_transformed = pd.DataFrame(processed_data, columns=feature_names)"
   ]
  },
  {
   "cell_type": "code",
   "execution_count": null,
   "id": "23b2da7a-7ed1-48c5-bdda-ba5ee0623fc9",
   "metadata": {},
   "outputs": [],
   "source": [
    "print(feature_names)"
   ]
  },
  {
   "cell_type": "code",
   "execution_count": 12,
   "id": "60823263-bb14-45a2-97c7-2fe3c7a498f1",
   "metadata": {},
   "outputs": [],
   "source": [
    "del data\n",
    "del processed_data"
   ]
  },
  {
   "cell_type": "code",
   "execution_count": 13,
   "id": "56a9d1d1-a7e4-42bc-b1fa-5ea454b4fa8c",
   "metadata": {},
   "outputs": [
    {
     "data": {
      "text/plain": [
       "['artifacts/pipeline.pkl']"
      ]
     },
     "execution_count": 13,
     "metadata": {},
     "output_type": "execute_result"
    }
   ],
   "source": [
    "# Сохраним данные локально и в mlflow\n",
    "local_artifact_dir = \"artifacts\"\n",
    "os.makedirs(local_artifact_dir, exist_ok=True)\n",
    "\n",
    "pipeline_path = os.path.join(local_artifact_dir, \"pipeline.pkl\")\n",
    "joblib.dump(pipeline, pipeline_path)"
   ]
  },
  {
   "cell_type": "code",
   "execution_count": 14,
   "id": "1d1c8b2d-6a70-4bd9-962c-c0c22bfd1dde",
   "metadata": {},
   "outputs": [],
   "source": [
    "data_transformed.to_parquet(\"data/data_transformed.parquet\")"
   ]
  },
  {
   "cell_type": "code",
   "execution_count": 27,
   "id": "e907a5d5-207e-4bc0-8331-ac0de90ee91b",
   "metadata": {},
   "outputs": [],
   "source": [
    "TRACKING_SERVER_HOST = \"127.0.0.1\"\n",
    "TRACKING_SERVER_PORT = 5000\n",
    "\n",
    "EXPERIMENT_NAME = \"final_pr_eda_experiment\"\n",
    "RUN_NAME = \"eda\"\n",
    "\n",
    "assets_dir = \"assets\"\n",
    "os.makedirs(assets_dir, exist_ok=True)\n",
    "\n",
    "mlflow.set_tracking_uri(f\"http://{TRACKING_SERVER_HOST}:{TRACKING_SERVER_PORT}\")\n",
    "mlflow.set_registry_uri(f\"http://{TRACKING_SERVER_HOST}:{TRACKING_SERVER_PORT}\")"
   ]
  },
  {
   "cell_type": "code",
   "execution_count": 16,
   "id": "6a4b4cca-44ea-4f93-af68-f7adf15b3d41",
   "metadata": {},
   "outputs": [
    {
     "name": "stdout",
     "output_type": "stream",
     "text": [
      "🏃 View run eda at: http://127.0.0.1:5000/#/experiments/1/runs/8229e6c2fcc54161855e9695a55a303a\n",
      "🧪 View experiment at: http://127.0.0.1:5000/#/experiments/1\n"
     ]
    }
   ],
   "source": [
    "if mlflow.get_experiment_by_name(EXPERIMENT_NAME):\n",
    "    experiment_id = mlflow.get_experiment_by_name(EXPERIMENT_NAME).experiment_id\n",
    "else:\n",
    "    experiment_id = mlflow.create_experiment(name=EXPERIMENT_NAME)\n",
    "\n",
    "with mlflow.start_run(run_name=RUN_NAME, experiment_id=experiment_id) as run:\n",
    "    run_id = run.info.run_id\n",
    "\n",
    "    mlflow.log_param(\"imputer_strategy\", \"constant\")\n",
    "    mlflow.log_artifact(pipeline_path, artifact_path=\"models\")"
   ]
  },
  {
   "cell_type": "code",
   "execution_count": 17,
   "id": "08866129-1dce-476c-ab8b-4d0f02a0a814",
   "metadata": {},
   "outputs": [],
   "source": [
    "del data_transformed"
   ]
  },
  {
   "cell_type": "markdown",
   "id": "0621e8bc-ab52-44b5-bb2f-c544083b68c9",
   "metadata": {},
   "source": [
    "# Обучение моделей"
   ]
  },
  {
   "cell_type": "code",
   "execution_count": 3,
   "id": "ec6bbe39-0da3-41ae-a71b-53f3ca0c2217",
   "metadata": {},
   "outputs": [],
   "source": [
    "# Загрузим подготовленные данные\n",
    "data = pd.read_parquet(\"data/data_transformed.parquet\")"
   ]
  },
  {
   "cell_type": "code",
   "execution_count": 4,
   "id": "c4c733bd-74e3-4fc6-a769-1ff9f6294b04",
   "metadata": {},
   "outputs": [
    {
     "data": {
      "text/html": [
       "<div>\n",
       "<style scoped>\n",
       "    .dataframe tbody tr th:only-of-type {\n",
       "        vertical-align: middle;\n",
       "    }\n",
       "\n",
       "    .dataframe tbody tr th {\n",
       "        vertical-align: top;\n",
       "    }\n",
       "\n",
       "    .dataframe thead th {\n",
       "        text-align: right;\n",
       "    }\n",
       "</style>\n",
       "<table border=\"1\" class=\"dataframe\">\n",
       "  <thead>\n",
       "    <tr style=\"text-align: right;\">\n",
       "      <th></th>\n",
       "      <th>age</th>\n",
       "      <th>antiguedad</th>\n",
       "      <th>renta</th>\n",
       "      <th>fecha_dato</th>\n",
       "      <th>ncodpers</th>\n",
       "      <th>ind_empleado</th>\n",
       "      <th>pais_residencia</th>\n",
       "      <th>sexo</th>\n",
       "      <th>fecha_alta</th>\n",
       "      <th>ind_nuevo</th>\n",
       "      <th>...</th>\n",
       "      <th>ind_hip_fin_ult1</th>\n",
       "      <th>ind_plan_fin_ult1</th>\n",
       "      <th>ind_pres_fin_ult1</th>\n",
       "      <th>ind_reca_fin_ult1</th>\n",
       "      <th>ind_tjcr_fin_ult1</th>\n",
       "      <th>ind_valo_fin_ult1</th>\n",
       "      <th>ind_viv_fin_ult1</th>\n",
       "      <th>ind_nomina_ult1</th>\n",
       "      <th>ind_nom_pens_ult1</th>\n",
       "      <th>ind_recibo_ult1</th>\n",
       "    </tr>\n",
       "  </thead>\n",
       "  <tbody>\n",
       "    <tr>\n",
       "      <th>0</th>\n",
       "      <td>-0.258450</td>\n",
       "      <td>-1.076658</td>\n",
       "      <td>-0.364576</td>\n",
       "      <td>2015-01-28</td>\n",
       "      <td>1375586</td>\n",
       "      <td>N</td>\n",
       "      <td>ES</td>\n",
       "      <td>1</td>\n",
       "      <td>2015-01-12</td>\n",
       "      <td>0</td>\n",
       "      <td>...</td>\n",
       "      <td>0</td>\n",
       "      <td>0</td>\n",
       "      <td>0</td>\n",
       "      <td>0</td>\n",
       "      <td>0</td>\n",
       "      <td>0</td>\n",
       "      <td>0</td>\n",
       "      <td>0</td>\n",
       "      <td>0</td>\n",
       "      <td>0</td>\n",
       "    </tr>\n",
       "    <tr>\n",
       "      <th>1</th>\n",
       "      <td>-0.996262</td>\n",
       "      <td>-0.632153</td>\n",
       "      <td>-1.581645</td>\n",
       "      <td>2015-01-28</td>\n",
       "      <td>1050611</td>\n",
       "      <td>N</td>\n",
       "      <td>ES</td>\n",
       "      <td>0</td>\n",
       "      <td>2012-08-10</td>\n",
       "      <td>0</td>\n",
       "      <td>...</td>\n",
       "      <td>0</td>\n",
       "      <td>0</td>\n",
       "      <td>0</td>\n",
       "      <td>0</td>\n",
       "      <td>0</td>\n",
       "      <td>0</td>\n",
       "      <td>0</td>\n",
       "      <td>0</td>\n",
       "      <td>0</td>\n",
       "      <td>0</td>\n",
       "    </tr>\n",
       "    <tr>\n",
       "      <th>2</th>\n",
       "      <td>-0.996262</td>\n",
       "      <td>-0.632153</td>\n",
       "      <td>0.458929</td>\n",
       "      <td>2015-01-28</td>\n",
       "      <td>1050612</td>\n",
       "      <td>N</td>\n",
       "      <td>ES</td>\n",
       "      <td>0</td>\n",
       "      <td>2012-08-10</td>\n",
       "      <td>0</td>\n",
       "      <td>...</td>\n",
       "      <td>0</td>\n",
       "      <td>0</td>\n",
       "      <td>0</td>\n",
       "      <td>0</td>\n",
       "      <td>0</td>\n",
       "      <td>0</td>\n",
       "      <td>0</td>\n",
       "      <td>0</td>\n",
       "      <td>0</td>\n",
       "      <td>0</td>\n",
       "    </tr>\n",
       "  </tbody>\n",
       "</table>\n",
       "<p>3 rows × 44 columns</p>\n",
       "</div>"
      ],
      "text/plain": [
       "        age  antiguedad     renta fecha_dato  ncodpers ind_empleado  \\\n",
       "0 -0.258450   -1.076658 -0.364576 2015-01-28   1375586            N   \n",
       "1 -0.996262   -0.632153 -1.581645 2015-01-28   1050611            N   \n",
       "2 -0.996262   -0.632153  0.458929 2015-01-28   1050612            N   \n",
       "\n",
       "  pais_residencia  sexo fecha_alta  ind_nuevo  ...  ind_hip_fin_ult1  \\\n",
       "0              ES     1 2015-01-12          0  ...                 0   \n",
       "1              ES     0 2012-08-10          0  ...                 0   \n",
       "2              ES     0 2012-08-10          0  ...                 0   \n",
       "\n",
       "  ind_plan_fin_ult1 ind_pres_fin_ult1  ind_reca_fin_ult1  ind_tjcr_fin_ult1  \\\n",
       "0                 0                 0                  0                  0   \n",
       "1                 0                 0                  0                  0   \n",
       "2                 0                 0                  0                  0   \n",
       "\n",
       "  ind_valo_fin_ult1  ind_viv_fin_ult1  ind_nomina_ult1  ind_nom_pens_ult1  \\\n",
       "0                 0                 0                0                  0   \n",
       "1                 0                 0                0                  0   \n",
       "2                 0                 0                0                  0   \n",
       "\n",
       "  ind_recibo_ult1  \n",
       "0               0  \n",
       "1               0  \n",
       "2               0  \n",
       "\n",
       "[3 rows x 44 columns]"
      ]
     },
     "execution_count": 4,
     "metadata": {},
     "output_type": "execute_result"
    }
   ],
   "source": [
    "data.head(3)"
   ]
  },
  {
   "cell_type": "code",
   "execution_count": 38,
   "id": "5b13adb0-e4f8-4d49-a6a0-403dd6d2fcdc",
   "metadata": {},
   "outputs": [],
   "source": [
    "# Преобразуем данные и оставим в качестве признаков \"fecha_dato\", \"age\", \"renta\", \"sexo\""
   ]
  },
  {
   "cell_type": "code",
   "execution_count": 5,
   "id": "c4d1ab8b-7ff1-4f61-9946-64857b9ab383",
   "metadata": {},
   "outputs": [],
   "source": [
    "product_cols = [col for col in data.columns if col.endswith(\"_ult1\")]\n",
    "\n",
    "interactions = data[[\"ncodpers\", \"fecha_dato\", \"age\", \"renta\", \"sexo\"] + product_cols]"
   ]
  },
  {
   "cell_type": "code",
   "execution_count": 6,
   "id": "37abac30-a577-4a9c-95dc-84cea98466fd",
   "metadata": {},
   "outputs": [],
   "source": [
    "del data"
   ]
  },
  {
   "cell_type": "code",
   "execution_count": 7,
   "id": "3a7b6ae4-8367-4889-863a-037107c0eef8",
   "metadata": {},
   "outputs": [],
   "source": [
    "# Разобъем данные по времени\n",
    "train_test_global_time_split_date = pd.Timestamp(\"2016-01-01\")\n",
    "\n",
    "train_test_global_time_split_idx = interactions[\"fecha_dato\"] < train_test_global_time_split_date\n",
    "interactions_train = interactions[train_test_global_time_split_idx]\n",
    "interactions_test = interactions[~train_test_global_time_split_idx]"
   ]
  },
  {
   "cell_type": "code",
   "execution_count": 8,
   "id": "d17716b0-fd74-42fb-938d-9d038acec6c7",
   "metadata": {},
   "outputs": [],
   "source": [
    "del interactions"
   ]
  },
  {
   "cell_type": "code",
   "execution_count": 9,
   "id": "4b067616-c303-4c73-a871-d1c175313e34",
   "metadata": {},
   "outputs": [
    {
     "name": "stdout",
     "output_type": "stream",
     "text": [
      "Количество пользователей в train: 846293\n",
      "Количество пользователей в test: 857043\n"
     ]
    }
   ],
   "source": [
    "# Количество клиентов в train и test\n",
    "clients_train = interactions_train[\"ncodpers\"].drop_duplicates()\n",
    "clients_test = interactions_test[\"ncodpers\"].drop_duplicates()\n",
    "\n",
    "print('Количество пользователей в train:', len(clients_train))\n",
    "print('Количество пользователей в test:', len(clients_test))"
   ]
  },
  {
   "cell_type": "code",
   "execution_count": 10,
   "id": "620f588e-7783-4cff-8b5b-8e2aa498fce8",
   "metadata": {},
   "outputs": [
    {
     "data": {
      "text/html": [
       "<div>\n",
       "<style scoped>\n",
       "    .dataframe tbody tr th:only-of-type {\n",
       "        vertical-align: middle;\n",
       "    }\n",
       "\n",
       "    .dataframe tbody tr th {\n",
       "        vertical-align: top;\n",
       "    }\n",
       "\n",
       "    .dataframe thead th {\n",
       "        text-align: right;\n",
       "    }\n",
       "</style>\n",
       "<table border=\"1\" class=\"dataframe\">\n",
       "  <thead>\n",
       "    <tr style=\"text-align: right;\">\n",
       "      <th></th>\n",
       "      <th>ncodpers</th>\n",
       "      <th>fecha_dato</th>\n",
       "      <th>age</th>\n",
       "      <th>renta</th>\n",
       "      <th>sexo</th>\n",
       "      <th>ind_ahor_fin_ult1</th>\n",
       "      <th>ind_aval_fin_ult1</th>\n",
       "      <th>ind_cco_fin_ult1</th>\n",
       "      <th>ind_cder_fin_ult1</th>\n",
       "      <th>ind_cno_fin_ult1</th>\n",
       "      <th>...</th>\n",
       "      <th>ind_hip_fin_ult1</th>\n",
       "      <th>ind_plan_fin_ult1</th>\n",
       "      <th>ind_pres_fin_ult1</th>\n",
       "      <th>ind_reca_fin_ult1</th>\n",
       "      <th>ind_tjcr_fin_ult1</th>\n",
       "      <th>ind_valo_fin_ult1</th>\n",
       "      <th>ind_viv_fin_ult1</th>\n",
       "      <th>ind_nomina_ult1</th>\n",
       "      <th>ind_nom_pens_ult1</th>\n",
       "      <th>ind_recibo_ult1</th>\n",
       "    </tr>\n",
       "  </thead>\n",
       "  <tbody>\n",
       "    <tr>\n",
       "      <th>1301594</th>\n",
       "      <td>179535</td>\n",
       "      <td>2015-03-28</td>\n",
       "      <td>1.094206</td>\n",
       "      <td>-0.714311</td>\n",
       "      <td>0</td>\n",
       "      <td>0</td>\n",
       "      <td>0</td>\n",
       "      <td>1</td>\n",
       "      <td>0</td>\n",
       "      <td>0</td>\n",
       "      <td>...</td>\n",
       "      <td>0</td>\n",
       "      <td>0</td>\n",
       "      <td>0</td>\n",
       "      <td>0</td>\n",
       "      <td>0</td>\n",
       "      <td>0</td>\n",
       "      <td>0</td>\n",
       "      <td>0</td>\n",
       "      <td>0</td>\n",
       "      <td>1</td>\n",
       "    </tr>\n",
       "    <tr>\n",
       "      <th>1111652</th>\n",
       "      <td>1031231</td>\n",
       "      <td>2015-02-28</td>\n",
       "      <td>-0.996262</td>\n",
       "      <td>-0.647322</td>\n",
       "      <td>1</td>\n",
       "      <td>0</td>\n",
       "      <td>0</td>\n",
       "      <td>1</td>\n",
       "      <td>0</td>\n",
       "      <td>0</td>\n",
       "      <td>...</td>\n",
       "      <td>0</td>\n",
       "      <td>0</td>\n",
       "      <td>0</td>\n",
       "      <td>0</td>\n",
       "      <td>0</td>\n",
       "      <td>0</td>\n",
       "      <td>0</td>\n",
       "      <td>0</td>\n",
       "      <td>0</td>\n",
       "      <td>0</td>\n",
       "    </tr>\n",
       "    <tr>\n",
       "      <th>3148781</th>\n",
       "      <td>294614</td>\n",
       "      <td>2015-06-28</td>\n",
       "      <td>0.294910</td>\n",
       "      <td>-1.592502</td>\n",
       "      <td>0</td>\n",
       "      <td>0</td>\n",
       "      <td>0</td>\n",
       "      <td>1</td>\n",
       "      <td>0</td>\n",
       "      <td>0</td>\n",
       "      <td>...</td>\n",
       "      <td>0</td>\n",
       "      <td>0</td>\n",
       "      <td>0</td>\n",
       "      <td>0</td>\n",
       "      <td>0</td>\n",
       "      <td>0</td>\n",
       "      <td>0</td>\n",
       "      <td>0</td>\n",
       "      <td>0</td>\n",
       "      <td>1</td>\n",
       "    </tr>\n",
       "  </tbody>\n",
       "</table>\n",
       "<p>3 rows × 29 columns</p>\n",
       "</div>"
      ],
      "text/plain": [
       "         ncodpers fecha_dato       age     renta  sexo  ind_ahor_fin_ult1  \\\n",
       "1301594    179535 2015-03-28  1.094206 -0.714311     0                  0   \n",
       "1111652   1031231 2015-02-28 -0.996262 -0.647322     1                  0   \n",
       "3148781    294614 2015-06-28  0.294910 -1.592502     0                  0   \n",
       "\n",
       "         ind_aval_fin_ult1  ind_cco_fin_ult1  ind_cder_fin_ult1  \\\n",
       "1301594                  0                 1                  0   \n",
       "1111652                  0                 1                  0   \n",
       "3148781                  0                 1                  0   \n",
       "\n",
       "         ind_cno_fin_ult1  ...  ind_hip_fin_ult1  ind_plan_fin_ult1  \\\n",
       "1301594                 0  ...                 0                  0   \n",
       "1111652                 0  ...                 0                  0   \n",
       "3148781                 0  ...                 0                  0   \n",
       "\n",
       "         ind_pres_fin_ult1  ind_reca_fin_ult1  ind_tjcr_fin_ult1  \\\n",
       "1301594                  0                  0                  0   \n",
       "1111652                  0                  0                  0   \n",
       "3148781                  0                  0                  0   \n",
       "\n",
       "         ind_valo_fin_ult1  ind_viv_fin_ult1  ind_nomina_ult1  \\\n",
       "1301594                  0                 0                0   \n",
       "1111652                  0                 0                0   \n",
       "3148781                  0                 0                0   \n",
       "\n",
       "         ind_nom_pens_ult1  ind_recibo_ult1  \n",
       "1301594                  0                1  \n",
       "1111652                  0                0  \n",
       "3148781                  0                1  \n",
       "\n",
       "[3 rows x 29 columns]"
      ]
     },
     "execution_count": 10,
     "metadata": {},
     "output_type": "execute_result"
    }
   ],
   "source": [
    "interactions_train.sample(3)"
   ]
  },
  {
   "cell_type": "code",
   "execution_count": 12,
   "id": "cec29a5c-3717-4791-a1fc-fb46222f3412",
   "metadata": {},
   "outputs": [],
   "source": [
    "X_train = interactions_train.drop(columns=['fecha_dato', 'ncodpers'] + product_cols)\n",
    "y_train = interactions_train[product_cols]\n",
    "\n",
    "X_train_sample = X_train.sample(frac=0.1, random_state=42) # Для упрощения работы оставим 10% данных, иначе падает ядро\n",
    "y_train_sample = y_train.loc[X_train_sample.index]"
   ]
  },
  {
   "cell_type": "code",
   "execution_count": 15,
   "id": "fd16d8e4-08b3-48a3-8242-0624657f51c6",
   "metadata": {},
   "outputs": [],
   "source": [
    "train_pool = Pool(\n",
    "    data=X_train_sample,\n",
    "    label=y_train_sample,\n",
    "    # cat_features=['segmento']\n",
    ")"
   ]
  },
  {
   "cell_type": "code",
   "execution_count": 16,
   "id": "6c163a24-11d2-4792-b9df-e9954cf4d90b",
   "metadata": {},
   "outputs": [
    {
     "name": "stdout",
     "output_type": "stream",
     "text": [
      "0:\tlearn: 0.6125787\ttotal: 799ms\tremaining: 1m 19s\n",
      "10:\tlearn: 0.2612970\ttotal: 7.34s\tremaining: 59.4s\n",
      "20:\tlearn: 0.1727913\ttotal: 13.8s\tremaining: 51.8s\n",
      "30:\tlearn: 0.1462277\ttotal: 20.4s\tremaining: 45.4s\n",
      "40:\tlearn: 0.1378228\ttotal: 27s\tremaining: 38.8s\n",
      "50:\tlearn: 0.1350306\ttotal: 33.8s\tremaining: 32.4s\n",
      "60:\tlearn: 0.1340344\ttotal: 40.5s\tremaining: 25.9s\n",
      "70:\tlearn: 0.1336518\ttotal: 47.1s\tremaining: 19.2s\n",
      "80:\tlearn: 0.1334636\ttotal: 53.7s\tremaining: 12.6s\n",
      "90:\tlearn: 0.1333795\ttotal: 1m\tremaining: 5.94s\n",
      "99:\tlearn: 0.1333151\ttotal: 1m 6s\tremaining: 0us\n"
     ]
    },
    {
     "data": {
      "text/plain": [
       "<catboost.core.CatBoostClassifier at 0x7f9e92f85ab0>"
      ]
     },
     "execution_count": 16,
     "metadata": {},
     "output_type": "execute_result"
    }
   ],
   "source": [
    "cb_model = CatBoostClassifier(\n",
    "    learning_rate=0.1,\n",
    "    iterations=100,\n",
    "    loss_function='MultiLogloss',\n",
    "    verbose=10,\n",
    "    thread_count=-1,\n",
    "    random_seed=42\n",
    ")\n",
    "\n",
    "cb_model.fit(train_pool)"
   ]
  },
  {
   "cell_type": "code",
   "execution_count": 17,
   "id": "d5c1bfd0-26f4-45bb-b177-d43f0d42a511",
   "metadata": {},
   "outputs": [],
   "source": [
    "# Посчитаем метрики на тестовой выборке\n",
    "X_test = interactions_test.drop(columns=product_cols)\n",
    "y_test = interactions_test[product_cols]\n",
    "\n",
    "test_pool = Pool(\n",
    "    data=X_test,\n",
    "    label=y_test,\n",
    "    # cat_features=['segmento']\n",
    ")"
   ]
  },
  {
   "cell_type": "code",
   "execution_count": 18,
   "id": "118c7292-a9a9-409e-8026-d0dcc5fd85e6",
   "metadata": {},
   "outputs": [],
   "source": [
    "preds = cb_model.predict_proba(test_pool)\n",
    "predicted_labels = (preds > 0.5).astype(int)\n",
    "predicted_df = pd.DataFrame(predicted_labels, columns=product_cols)"
   ]
  },
  {
   "cell_type": "code",
   "execution_count": 20,
   "id": "0d3c6f2a-d22d-4f3d-a3ea-e3ab2590d3b3",
   "metadata": {},
   "outputs": [
    {
     "name": "stderr",
     "output_type": "stream",
     "text": [
      "/home/mle-user/mle_projects/mle-pr-final/.venv/lib/python3.10/site-packages/sklearn/metrics/_classification.py:1531: UndefinedMetricWarning: Precision is ill-defined and being set to 0.0 in labels with no predicted samples. Use `zero_division` parameter to control this behavior.\n",
      "  _warn_prf(average, modifier, f\"{metric.capitalize()} is\", len(result))\n"
     ]
    },
    {
     "name": "stdout",
     "output_type": "stream",
     "text": [
      "Accuracy: 0.43838484002362815\n",
      "F1-Score (Weighted): 0.3648248891142275\n",
      "Precision (Weighted): 0.29607137863673366\n",
      "Recall (Weighted): 0.47584798173915055\n"
     ]
    }
   ],
   "source": [
    "accuracy = accuracy_score(y_test, predicted_labels)\n",
    "f1 = f1_score(y_test, predicted_labels, average='weighted')\n",
    "precision = precision_score(y_test, predicted_labels, average='weighted')\n",
    "recall = recall_score(y_test, predicted_labels, average='weighted')\n",
    "\n",
    "print(f\"Accuracy: {accuracy}\")\n",
    "print(f\"F1-Score (Weighted): {f1}\")\n",
    "print(f\"Precision (Weighted): {precision}\")\n",
    "print(f\"Recall (Weighted): {recall}\")"
   ]
  },
  {
   "cell_type": "code",
   "execution_count": 22,
   "id": "b34f0034-ce46-4c6b-996c-a503b89a3f3f",
   "metadata": {},
   "outputs": [],
   "source": [
    "metrics = {\n",
    "    \"accuracy\": accuracy,\n",
    "    \"f1\": f1,\n",
    "    \"precision\": precision,\n",
    "    \"recall\": recall\n",
    "}"
   ]
  },
  {
   "cell_type": "code",
   "execution_count": 23,
   "id": "ff0974f0-22fa-42c1-9b72-15a0a9a9321a",
   "metadata": {},
   "outputs": [],
   "source": [
    "cb_model.save_model('artifacts/catboost_model.bin')"
   ]
  },
  {
   "cell_type": "code",
   "execution_count": 25,
   "id": "cd14b9cd-b6de-4453-980e-31699eba40ac",
   "metadata": {},
   "outputs": [],
   "source": [
    "pip_requirements = './requirements.txt'\n",
    "input_example = X_test[:10]"
   ]
  },
  {
   "cell_type": "code",
   "execution_count": 28,
   "id": "9d1b6085-00d3-4a3d-9591-d7d3e5195327",
   "metadata": {},
   "outputs": [
    {
     "name": "stderr",
     "output_type": "stream",
     "text": [
      "/home/mle-user/mle_projects/mle-pr-final/.venv/lib/python3.10/site-packages/mlflow/types/utils.py:407: UserWarning: Hint: Inferred schema contains integer column(s). Integer columns in Python cannot represent missing values. If your input data contains missing values at inference time, it will be encoded as floats and will cause a schema enforcement error. The best way to avoid this problem is to infer the model schema based on a realistic data sample (training dataset) that includes missing values. Alternatively, you can declare integer columns as doubles (float64) whenever these columns may have missing values. See `Handling Integers With Missing Values <https://www.mlflow.org/docs/latest/models.html#handling-integers-with-missing-values>`_ for more details.\n",
      "  warnings.warn(\n",
      "Registered model 'baseline_model' already exists. Creating a new version of this model...\n",
      "2024/12/01 14:51:38 INFO mlflow.store.model_registry.abstract_store: Waiting up to 60 seconds for model version to finish creation. Model name: baseline_model, version 2\n"
     ]
    },
    {
     "name": "stdout",
     "output_type": "stream",
     "text": [
      "🏃 View run eda at: http://127.0.0.1:5000/#/experiments/1/runs/d10e838a730d4f048edfc454b424d264\n",
      "🧪 View experiment at: http://127.0.0.1:5000/#/experiments/1\n"
     ]
    },
    {
     "name": "stderr",
     "output_type": "stream",
     "text": [
      "Created version '2' of model 'baseline_model'.\n"
     ]
    }
   ],
   "source": [
    "REGISTRY_MODEL_NAME = 'baseline_model'\n",
    "if mlflow.get_experiment_by_name(EXPERIMENT_NAME):\n",
    "    experiment_id = mlflow.get_experiment_by_name(EXPERIMENT_NAME).experiment_id\n",
    "else:\n",
    "    experiment_id = mlflow.create_experiment(name=EXPERIMENT_NAME)\n",
    "\n",
    "with mlflow.start_run(run_name=RUN_NAME, experiment_id=experiment_id) as run:\n",
    "    run_id = run.info.run_id\n",
    "\n",
    "    mlflow.log_metrics(metrics)\n",
    "\n",
    "    model_info = mlflow.sklearn.log_model( \n",
    "        sk_model=cb_model,\n",
    "        artifact_path=\"artifacts\",\n",
    "        registered_model_name=REGISTRY_MODEL_NAME,\n",
    "        pip_requirements=pip_requirements,\n",
    "        input_example=input_example,\n",
    "        await_registration_for=60,\n",
    "    )"
   ]
  },
  {
   "cell_type": "code",
   "execution_count": null,
   "id": "5c8e6893-3b17-42de-babb-1d3c38bd2f4e",
   "metadata": {},
   "outputs": [],
   "source": []
  }
 ],
 "metadata": {
  "kernelspec": {
   "display_name": "Python 3 (ipykernel)",
   "language": "python",
   "name": "python3"
  },
  "language_info": {
   "codemirror_mode": {
    "name": "ipython",
    "version": 3
   },
   "file_extension": ".py",
   "mimetype": "text/x-python",
   "name": "python",
   "nbconvert_exporter": "python",
   "pygments_lexer": "ipython3",
   "version": "3.10.12"
  }
 },
 "nbformat": 4,
 "nbformat_minor": 5
}
