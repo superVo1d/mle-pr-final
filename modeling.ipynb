{
 "cells": [
  {
   "cell_type": "code",
   "execution_count": 17,
   "id": "48717a08-8585-432e-9688-0bae2a5d33ba",
   "metadata": {},
   "outputs": [],
   "source": [
    "import pandas as pd\n",
    "import numpy as np\n",
    "from sklearn.base import BaseEstimator, TransformerMixin\n",
    "from sklearn.pipeline import Pipeline\n",
    "from sklearn.compose import ColumnTransformer\n",
    "from sklearn.preprocessing import OneHotEncoder, StandardScaler, LabelEncoder, OrdinalEncoder\n",
    "from sklearn.impute import SimpleImputer\n",
    "import os\n",
    "import mlflow\n",
    "from dotenv import load_dotenv\n",
    "from joblib import Memory\n",
    "import joblib"
   ]
  },
  {
   "cell_type": "code",
   "execution_count": 2,
   "id": "3e84497d-25c0-43cd-be00-159a3bb7a855",
   "metadata": {},
   "outputs": [
    {
     "data": {
      "text/plain": [
       "True"
      ]
     },
     "execution_count": 2,
     "metadata": {},
     "output_type": "execute_result"
    }
   ],
   "source": [
    "load_dotenv()"
   ]
  },
  {
   "cell_type": "code",
   "execution_count": 3,
   "id": "bd8b0750-7cf9-4c06-b8b6-fa12093ab67f",
   "metadata": {},
   "outputs": [],
   "source": [
    "# Загружаем данные"
   ]
  },
  {
   "cell_type": "code",
   "execution_count": 4,
   "id": "71d80a17-3bd0-4378-908c-d5c38159b62e",
   "metadata": {},
   "outputs": [
    {
     "name": "stderr",
     "output_type": "stream",
     "text": [
      "/tmp/ipykernel_4378/2597651704.py:1: DtypeWarning: Columns (5,8,11,15) have mixed types. Specify dtype option on import or set low_memory=False.\n",
      "  data = pd.read_csv(\"data/train_ver2.csv\")\n"
     ]
    }
   ],
   "source": [
    "data = pd.read_csv(\"data/train_ver2.csv\")"
   ]
  },
  {
   "cell_type": "code",
   "execution_count": 5,
   "id": "5cadc008-776b-4005-9a28-bac80e5f7e42",
   "metadata": {},
   "outputs": [],
   "source": [
    "# Для каждого шага предобработки данных напишем свой трансформер"
   ]
  },
  {
   "cell_type": "code",
   "execution_count": 6,
   "id": "d12932f3-93ed-40f7-b051-39dc55735dd1",
   "metadata": {},
   "outputs": [],
   "source": [
    "# Удаляет ненужные столбцы\n",
    "class DropColumns(BaseEstimator, TransformerMixin):\n",
    "    def __init__(self, columns):\n",
    "        self.columns = columns\n",
    "\n",
    "    def fit(self, X, y=None):\n",
    "        return self\n",
    "\n",
    "    def transform(self, X):\n",
    "        return X.drop(columns=self.columns, errors='ignore')\n",
    "\n",
    "# Подготоваливает числовые столбцы\n",
    "class ProcessNumericColumns(BaseEstimator, TransformerMixin):\n",
    "    def __init__(self, columns):\n",
    "        self.columns = columns\n",
    "\n",
    "    def fit(self, X, y=None):\n",
    "        return self\n",
    "\n",
    "    def transform(self, X):\n",
    "        X = X.copy()\n",
    "        for col in self.columns:\n",
    "            X[col] = pd.to_numeric(X[col], errors='coerce')\n",
    "            median = X[col].median()\n",
    "            X[col] = X[col].fillna(median)\n",
    "        return X\n",
    "\n",
    "# Подготоваливает категориальные столбцы\n",
    "class ProcessCategoricalColumns(BaseEstimator, TransformerMixin):\n",
    "    mappings = {\n",
    "        'indrel_1mes': {\n",
    "            '1.0': '1',\n",
    "            '2.0': '2',\n",
    "            '3.0': '3',\n",
    "            '4.0': '4'\n",
    "        }\n",
    "    }\n",
    "    \n",
    "    def __init__(self, columns):\n",
    "        self.columns = columns\n",
    "\n",
    "    def fit(self, X, y=None):\n",
    "        return self\n",
    "\n",
    "    def transform(self, X):\n",
    "        X = X.copy()\n",
    "        for col in self.columns:\n",
    "            X[col] = X[col].replace([pd.NA, None], 'unknown').astype(str)\n",
    "            X[col] = X[col].str.strip()\n",
    "            X[col] = X[col].replace(['NA', '', 'nan'], 'unknown')\n",
    "            if col in self.mappings:\n",
    "                X[col] = X[col].map(self.mappings[col])\n",
    "        return X\n",
    "\n",
    "# Подготоваливает столбцы с датами\n",
    "class ProcessDateColumns(BaseEstimator, TransformerMixin):\n",
    "    def __init__(self, columns):\n",
    "        self.columns = columns\n",
    "\n",
    "    def fit(self, X, y=None):\n",
    "        return self\n",
    "\n",
    "    def transform(self, X):\n",
    "        X = X.copy()\n",
    "        for col in self.columns:\n",
    "            X[col] = pd.to_datetime(X[col], errors='coerce')\n",
    "        return X        \n",
    "\n",
    "# Подготавливает столбцы с булевыми значениями\n",
    "class ProcessBooleanColumns(BaseEstimator, TransformerMixin):\n",
    "    mappings = {\n",
    "        'indresi': {'S': True, 'N': False},\n",
    "        'indext': {'S': True, 'N': False},\n",
    "        'indfall': {'S': True, 'N': False},\n",
    "        'sexo': {'H': True, 'V': False}\n",
    "    }\n",
    "\n",
    "    def __init__(self, columns):\n",
    "        self.columns = columns\n",
    "\n",
    "    def fit(self, X, y=None):\n",
    "        return self\n",
    "\n",
    "    def transform(self, X):\n",
    "        X = X.copy()\n",
    "        for col in self.columns:\n",
    "            if col in self.mappings:\n",
    "                X[col] = X[col].map(self.mappings[col])\n",
    "            X[col] = X[col].fillna(False)\n",
    "            X[col] = X[col].astype(bool)\n",
    "        return X\n",
    "\n",
    "# Удаляет выбросы\n",
    "class RemoveOutliers(BaseEstimator, TransformerMixin):\n",
    "    def __init__(self, columns, threshold=1.5):\n",
    "        self.columns = columns\n",
    "        self.threshold = threshold\n",
    "\n",
    "    def fit(self, X, y=None):\n",
    "        return self\n",
    "\n",
    "    def transform(self, X):\n",
    "        X = X.copy()\n",
    "        bounds = {\n",
    "            col: (X[col].quantile(0.25) - self.threshold * (X[col].quantile(0.75) - X[col].quantile(0.25)),\n",
    "                  X[col].quantile(0.75) + self.threshold * (X[col].quantile(0.75) - X[col].quantile(0.25)))\n",
    "            for col in self.columns\n",
    "        }\n",
    "        for col, (lower, upper) in bounds.items():\n",
    "            X = X[(X[col] >= lower) & (X[col] <= upper)]\n",
    "        return X\n",
    "\n",
    "# Преобразовывает категориальные столбцы\n",
    "class LabelEncodeColumns(BaseEstimator, TransformerMixin):\n",
    "    def __init__(self, columns):\n",
    "        self.columns = columns\n",
    "        self.encoders = {}\n",
    "\n",
    "    def fit(self, X, y=None):\n",
    "        for col in self.columns:\n",
    "            le = LabelEncoder()\n",
    "            le.fit(X[col].astype(str))\n",
    "            self.encoders[col] = le\n",
    "        return self\n",
    "\n",
    "    def transform(self, X):\n",
    "        X = X.copy()\n",
    "        for col in self.columns:\n",
    "            X[col] = self.encoders[col].transform(X[col].astype(str))\n",
    "        return X        "
   ]
  },
  {
   "cell_type": "code",
   "execution_count": 7,
   "id": "c18817e8-d6fe-4b2d-9957-ffa7788ac536",
   "metadata": {},
   "outputs": [
    {
     "data": {
      "text/plain": [
       "segmento\n",
       "02 - PARTICULARES     7960220\n",
       "03 - UNIVERSITARIO    4935579\n",
       "01 - TOP               562142\n",
       "Name: count, dtype: int64"
      ]
     },
     "execution_count": 7,
     "metadata": {},
     "output_type": "execute_result"
    }
   ],
   "source": [
    "data['segmento'].value_counts()"
   ]
  },
  {
   "cell_type": "code",
   "execution_count": 12,
   "id": "7c5e1e84-f8df-4331-8633-e281c559c528",
   "metadata": {},
   "outputs": [],
   "source": [
    "# Определяем стобцы для трансформации\n",
    "numeric_columns = ['age', 'antiguedad', 'renta']\n",
    "datetime_columns = ['fecha_dato', 'fecha_alta']\n",
    "columns_to_drop = ['tipodom', 'nomprov', 'ult_fec_cli_1t', 'conyuemp']\n",
    "\n",
    "categorical_columns = [\n",
    "    'ind_empleado', 'pais_residencia', 'indrel_1mes', \n",
    "    'tiprel_1mes', 'canal_entrada', 'segmento'\n",
    "]\n",
    "\n",
    "one_hot_encoding_columns = ['segmento']\n",
    "\n",
    "boolean_columns = [\n",
    "    col for col in data.columns if data[col].nunique() == 2 and not col in ['conyuemp']\n",
    "]"
   ]
  },
  {
   "cell_type": "code",
   "execution_count": 13,
   "id": "84d5452d-de03-4168-a236-e61f377f00d6",
   "metadata": {},
   "outputs": [],
   "source": [
    "# Приводим типы, заполняем пропущеные значения, удаляем выбросы\n",
    "preprocess_data_pipeline = Pipeline([\n",
    "    ('drop_columns', DropColumns(columns=columns_to_drop)),\n",
    "    ('process_numeric', ProcessNumericColumns(columns=numeric_columns)),\n",
    "    ('remove_outliers', RemoveOutliers(columns=numeric_columns)),\n",
    "    ('process_categorical', ProcessCategoricalColumns(columns=categorical_columns)),\n",
    "    ('process_boolean', ProcessBooleanColumns(columns=boolean_columns)),\n",
    "    ('process_dates', ProcessDateColumns(columns=datetime_columns)),\n",
    "])\n",
    "\n",
    "one_hot_pipeline = Pipeline([\n",
    "    ('imputer', SimpleImputer(strategy='constant', fill_value='unknown')),\n",
    "    ('onehot', OneHotEncoder(handle_unknown='ignore'))\n",
    "])\n",
    "\n",
    "# Выполняем преобразования стобцов\n",
    "column_transformer = ColumnTransformer(\n",
    "    transformers=[\n",
    "        ('one_hot', one_hot_pipeline, one_hot_encoding_columns),\n",
    "        ('numeric', StandardScaler(), numeric_columns)\n",
    "    ],\n",
    "    remainder='passthrough'\n",
    ")\n",
    "\n",
    "# Собираем в пайплайн\n",
    "pipeline = Pipeline([\n",
    "    ('data_preprocessing', preprocess_data_pipeline),\n",
    "    ('feature_transformation', column_transformer)\n",
    "], memory=\"tmp/cache\")"
   ]
  },
  {
   "cell_type": "code",
   "execution_count": 14,
   "id": "36bca358-c957-4b65-892a-25188f73d9eb",
   "metadata": {},
   "outputs": [],
   "source": [
    "processed_data = pipeline.fit_transform(data)"
   ]
  },
  {
   "cell_type": "code",
   "execution_count": 20,
   "id": "56a9d1d1-a7e4-42bc-b1fa-5ea454b4fa8c",
   "metadata": {},
   "outputs": [],
   "source": [
    "# Сохраним данные локально и в mlflow\n",
    "local_artifact_dir = \"artifacts\"\n",
    "os.makedirs(local_artifact_dir, exist_ok=True)\n",
    "\n",
    "pipeline_path = os.path.join(local_artifact_dir, \"pipeline.pkl\")\n",
    "joblib.dump(pipeline, pipeline_path)\n",
    "\n",
    "data_path = os.path.join(local_artifact_dir, \"processed_data.csv\")\n",
    "pd.DataFrame(processed_data).to_csv(data_path, index=False)"
   ]
  },
  {
   "cell_type": "code",
   "execution_count": 22,
   "id": "e907a5d5-207e-4bc0-8331-ac0de90ee91b",
   "metadata": {},
   "outputs": [],
   "source": [
    "TRACKING_SERVER_HOST = \"127.0.0.1\"\n",
    "TRACKING_SERVER_PORT = 5000\n",
    "\n",
    "EXPERIMENT_NAME = \"final_pr_eda_experiment\"\n",
    "RUN_NAME = \"eda\"\n",
    "\n",
    "assets_dir = \"assets\"\n",
    "os.makedirs(assets_dir, exist_ok=True)\n",
    "\n",
    "os.environ[\"MLFLOW_S3_ENDPOINT_URL\"] = \"https://storage.yandexcloud.net\"\n",
    "os.environ[\"AWS_ACCESS_KEY_ID\"] = os.getenv(\"AWS_ACCESS_KEY_ID\")\n",
    "os.environ[\"AWS_SECRET_ACCESS_KEY\"] = os.getenv(\"AWS_SECRET_ACCESS_KEY\")\n",
    "\n",
    "mlflow.set_tracking_uri(f\"http://{TRACKING_SERVER_HOST}:{TRACKING_SERVER_PORT}\")\n",
    "mlflow.set_registry_uri(f\"http://{TRACKING_SERVER_HOST}:{TRACKING_SERVER_PORT}\")"
   ]
  },
  {
   "cell_type": "code",
   "execution_count": 24,
   "id": "6a4b4cca-44ea-4f93-af68-f7adf15b3d41",
   "metadata": {},
   "outputs": [
    {
     "name": "stdout",
     "output_type": "stream",
     "text": [
      "🏃 View run eda at: http://127.0.0.1:5000/#/experiments/1/runs/ee993741b40b4a539d487685462fc6bf\n",
      "🧪 View experiment at: http://127.0.0.1:5000/#/experiments/1\n"
     ]
    }
   ],
   "source": [
    "if mlflow.get_experiment_by_name(EXPERIMENT_NAME):\n",
    "    experiment_id = mlflow.get_experiment_by_name(EXPERIMENT_NAME).experiment_id\n",
    "else:\n",
    "    experiment_id = mlflow.create_experiment(name=EXPERIMENT_NAME)\n",
    "\n",
    "with mlflow.start_run(run_name=RUN_NAME, experiment_id=experiment_id) as run:\n",
    "    run_id = run.info.run_id\n",
    "\n",
    "    mlflow.log_param(\"imputer_strategy\", \"constant\")\n",
    "    mlflow.log_artifact(pipeline_path, artifact_path=\"models\")\n",
    "    mlflow.log_artifact(data_path, artifact_path=\"data\")"
   ]
  },
  {
   "cell_type": "code",
   "execution_count": null,
   "id": "9f8c915f-716a-4401-bf16-f93ad493a667",
   "metadata": {},
   "outputs": [],
   "source": [
    "# Построим модель ALS в качестве меры будет частота использования"
   ]
  }
 ],
 "metadata": {
  "kernelspec": {
   "display_name": "Python 3 (ipykernel)",
   "language": "python",
   "name": "python3"
  },
  "language_info": {
   "codemirror_mode": {
    "name": "ipython",
    "version": 3
   },
   "file_extension": ".py",
   "mimetype": "text/x-python",
   "name": "python",
   "nbconvert_exporter": "python",
   "pygments_lexer": "ipython3",
   "version": "3.10.12"
  }
 },
 "nbformat": 4,
 "nbformat_minor": 5
}
